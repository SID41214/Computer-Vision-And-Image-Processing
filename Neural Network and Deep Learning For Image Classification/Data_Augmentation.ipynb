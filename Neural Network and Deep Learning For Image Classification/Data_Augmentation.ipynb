{
  "nbformat": 4,
  "nbformat_minor": 0,
  "metadata": {
    "colab": {
      "provenance": []
    },
    "kernelspec": {
      "name": "python3",
      "display_name": "Python 3"
    },
    "language_info": {
      "name": "python"
    }
  },
  "cells": [
    {
      "cell_type": "markdown",
      "source": [
        "# Data Augmentation"
      ],
      "metadata": {
        "id": "zkUQVW5zwDrM"
      }
    },
    {
      "cell_type": "markdown",
      "source": [
        "* Train a Convolutional Neural Network with Regular data and Augmented data. The purpose of this lab is to show that the Augmented data improves generalization performance.\n",
        "\n",
        "* Think of a scenario where a drone has to take a picture of an object. The drone is moving and the object can also possibly be moving. When an image is taken we arent always going to get perfect images. The subject may not be perfectly centered in the image or the subject may be rotated in the image. In this case, a model trained on perfectly centered or rotated images won't perform well. This is why we train a model on rotated data so it can perform well on imperfect images.\n",
        "\n",
        "* In this assignment, we will use a dataset of digit images. We will have two models one trained on non rotated digits and one trained on rotated images and then we will test the models on a rotated testing dataset which will be more realistic and robust in terms of our scenario above.\n",
        "\n",
        "* Get Some Data\n",
        "* Convolutional Neural Network\n",
        "* Rotated Training Data"
      ],
      "metadata": {
        "id": "aWevzxcxbczw"
      }
    },
    {
      "cell_type": "markdown",
      "source": [
        "# Preparation"
      ],
      "metadata": {
        "id": "owtPzoHDbp7-"
      }
    },
    {
      "cell_type": "code",
      "execution_count": 1,
      "metadata": {
        "id": "b1brYUYOv23c",
        "colab": {
          "base_uri": "https://localhost:8080/"
        },
        "outputId": "56ed44a5-0aad-402a-ea0d-cbb4f8d3bc98"
      },
      "outputs": [
        {
          "output_type": "stream",
          "name": "stdout",
          "text": [
            "Requirement already satisfied: torch in /usr/local/lib/python3.10/dist-packages (2.5.1+cu121)\n",
            "Requirement already satisfied: torchvision in /usr/local/lib/python3.10/dist-packages (0.20.1+cu121)\n",
            "Requirement already satisfied: torchaudio in /usr/local/lib/python3.10/dist-packages (2.5.1+cu121)\n",
            "Requirement already satisfied: filelock in /usr/local/lib/python3.10/dist-packages (from torch) (3.16.1)\n",
            "Requirement already satisfied: typing-extensions>=4.8.0 in /usr/local/lib/python3.10/dist-packages (from torch) (4.12.2)\n",
            "Requirement already satisfied: networkx in /usr/local/lib/python3.10/dist-packages (from torch) (3.4.2)\n",
            "Requirement already satisfied: jinja2 in /usr/local/lib/python3.10/dist-packages (from torch) (3.1.4)\n",
            "Requirement already satisfied: fsspec in /usr/local/lib/python3.10/dist-packages (from torch) (2024.10.0)\n",
            "Requirement already satisfied: sympy==1.13.1 in /usr/local/lib/python3.10/dist-packages (from torch) (1.13.1)\n",
            "Requirement already satisfied: mpmath<1.4,>=1.1.0 in /usr/local/lib/python3.10/dist-packages (from sympy==1.13.1->torch) (1.3.0)\n",
            "Requirement already satisfied: numpy in /usr/local/lib/python3.10/dist-packages (from torchvision) (1.26.4)\n",
            "Requirement already satisfied: pillow!=8.3.*,>=5.3.0 in /usr/local/lib/python3.10/dist-packages (from torchvision) (6.2.2)\n",
            "Requirement already satisfied: MarkupSafe>=2.0 in /usr/local/lib/python3.10/dist-packages (from jinja2->torch) (3.0.2)\n"
          ]
        }
      ],
      "source": [
        "!pip3 install torch torchvision torchaudio"
      ]
    },
    {
      "cell_type": "code",
      "source": [
        "# Download a Pretrained Model because training takes a long time\n",
        "!wget https://s3-api.us-geo.objectstorage.softlayer.net/cf-courses-data/CognitiveClass/meet_up/12.02.2020/normal.pt"
      ],
      "metadata": {
        "colab": {
          "base_uri": "https://localhost:8080/"
        },
        "id": "HlS7SwpJeMV6",
        "outputId": "1fbac7e7-3eb4-4f3b-94a0-004eceac3bc6"
      },
      "execution_count": 2,
      "outputs": [
        {
          "output_type": "stream",
          "name": "stdout",
          "text": [
            "--2024-12-28 04:26:59--  https://s3-api.us-geo.objectstorage.softlayer.net/cf-courses-data/CognitiveClass/meet_up/12.02.2020/normal.pt\n",
            "Resolving s3-api.us-geo.objectstorage.softlayer.net (s3-api.us-geo.objectstorage.softlayer.net)... 67.228.254.196\n",
            "Connecting to s3-api.us-geo.objectstorage.softlayer.net (s3-api.us-geo.objectstorage.softlayer.net)|67.228.254.196|:443... connected.\n",
            "HTTP request sent, awaiting response... 200 OK\n",
            "Length: 75134 (73K) [application/octet-stream]\n",
            "Saving to: ‘normal.pt.6’\n",
            "\n",
            "\rnormal.pt.6           0%[                    ]       0  --.-KB/s               \rnormal.pt.6         100%[===================>]  73.37K  --.-KB/s    in 0.003s  \n",
            "\n",
            "2024-12-28 04:26:59 (24.8 MB/s) - ‘normal.pt.6’ saved [75134/75134]\n",
            "\n"
          ]
        }
      ]
    },
    {
      "cell_type": "code",
      "source": [
        "# Download a Pretrained Model Trained on Augmented Data because training takes a long time\n",
        "!wget https://s3-api.us-geo.objectstorage.softlayer.net/cf-courses-data/CognitiveClass/meet_up/12.02.2020/rotated_data.pt"
      ],
      "metadata": {
        "colab": {
          "base_uri": "https://localhost:8080/"
        },
        "id": "gek35lMJeVAT",
        "outputId": "aa51f197-a965-4a7d-dd1a-7203fd2883a3"
      },
      "execution_count": 3,
      "outputs": [
        {
          "output_type": "stream",
          "name": "stdout",
          "text": [
            "--2024-12-28 04:26:59--  https://s3-api.us-geo.objectstorage.softlayer.net/cf-courses-data/CognitiveClass/meet_up/12.02.2020/rotated_data.pt\n",
            "Resolving s3-api.us-geo.objectstorage.softlayer.net (s3-api.us-geo.objectstorage.softlayer.net)... 67.228.254.196\n",
            "Connecting to s3-api.us-geo.objectstorage.softlayer.net (s3-api.us-geo.objectstorage.softlayer.net)|67.228.254.196|:443... connected.\n",
            "HTTP request sent, awaiting response... 200 OK\n",
            "Length: 75134 (73K) [application/octet-stream]\n",
            "Saving to: ‘rotated_data.pt.6’\n",
            "\n",
            "\rrotated_data.pt.6     0%[                    ]       0  --.-KB/s               \rrotated_data.pt.6   100%[===================>]  73.37K  --.-KB/s    in 0.004s  \n",
            "\n",
            "2024-12-28 04:26:59 (19.7 MB/s) - ‘rotated_data.pt.6’ saved [75134/75134]\n",
            "\n"
          ]
        }
      ]
    },
    {
      "cell_type": "code",
      "source": [
        "# Library to Show Images\n",
        "!pip install Pillow==6.2.2\n",
        "# !pip install pillow==9.5.0"
      ],
      "metadata": {
        "colab": {
          "base_uri": "https://localhost:8080/"
        },
        "id": "Mg_Y36Y8faQP",
        "outputId": "fb52fbf4-983f-4bba-f83f-30b678abe7a9"
      },
      "execution_count": 4,
      "outputs": [
        {
          "output_type": "stream",
          "name": "stdout",
          "text": [
            "Requirement already satisfied: Pillow==6.2.2 in /usr/local/lib/python3.10/dist-packages (6.2.2)\n"
          ]
        }
      ]
    },
    {
      "cell_type": "code",
      "source": [
        "# !pip install --upgrade pillow"
      ],
      "metadata": {
        "id": "BlN7NscqgWcJ"
      },
      "execution_count": 5,
      "outputs": []
    },
    {
      "cell_type": "markdown",
      "source": [
        "**Restart the kernel**"
      ],
      "metadata": {
        "id": "R7RnwRz5fw5u"
      }
    },
    {
      "cell_type": "code",
      "source": [
        "# Import the libraries we need to use in this lab\n",
        "# Using the following line code to install the torchvision library\n",
        "# !conda install -y torchvision\n",
        "\n",
        "# PyTorch Library\n",
        "import torch\n",
        "# PyTorch Neural Network Library\n",
        "import torch.nn as nn\n",
        "# Allows us to transform data\n",
        "import torchvision.transforms as transforms\n",
        "# Used to graph data and loss curves\n",
        "import matplotlib.pylab as plt\n",
        "# Allows us to use arrays to manipulate and store data\n",
        "import numpy as np\n",
        "# Allows us to download the dataset\n",
        "import torchvision.datasets as dsets\n",
        "# Allows us to access the filesystem\n",
        "import os"
      ],
      "metadata": {
        "id": "ZXYnf3SggL8p"
      },
      "execution_count": 6,
      "outputs": []
    },
    {
      "cell_type": "markdown",
      "source": [
        "Plot Cost and Accuracy vs Epoch Graph"
      ],
      "metadata": {
        "id": "KDCmath1g3S3"
      }
    },
    {
      "cell_type": "code",
      "source": [
        "def plot_cost_accuracy(checkpoint):\n",
        "\n",
        "# Plot the cost and accuracy\n",
        "\n",
        "    fig, ax1 = plt.subplots()\n",
        "    color = 'tab:red'\n",
        "    ax1.plot(checkpoint['cost'], color=color)\n",
        "    ax1.set_xlabel('epoch', color=color)\n",
        "    ax1.set_ylabel('Cost', color=color)\n",
        "    ax1.tick_params(axis='y', color=color)\n",
        "\n",
        "    ax2 = ax1.twinx()\n",
        "    color = 'tab:blue'\n",
        "    ax2.set_ylabel('accuracy', color=color)\n",
        "    ax2.set_xlabel('epoch', color=color)\n",
        "    ax2.plot( checkpoint['accuracy'], color=color)\n",
        "    ax2.tick_params(axis='y', color=color)\n",
        "    fig.tight_layout()"
      ],
      "metadata": {
        "id": "Xwb-FRnTg3tZ"
      },
      "execution_count": 7,
      "outputs": []
    },
    {
      "cell_type": "markdown",
      "source": [
        "Define the function show_data to plot out data samples as images."
      ],
      "metadata": {
        "id": "AE_FJBO2hFZO"
      }
    },
    {
      "cell_type": "code",
      "source": [
        "def show_data(data_sample):\n",
        "    plt.imshow(data_sample[0].numpy().reshape(IMAGE_SIZE, IMAGE_SIZE), cmap='gray')\n",
        "    plt.title('y = '+ str(data_sample[1]))"
      ],
      "metadata": {
        "id": "KFEivvkMhFvk"
      },
      "execution_count": 8,
      "outputs": []
    },
    {
      "cell_type": "markdown",
      "source": [
        "Plot first 5 misclassified samples"
      ],
      "metadata": {
        "id": "SVTu1gkxhHYH"
      }
    },
    {
      "cell_type": "code",
      "source": [
        "def plot_mis_classified(model, dataset):\n",
        "    count=0\n",
        "    for x, y in torch.utils.data.DataLoader(dataset=dataset, batch_size=1):\n",
        "        z = model(x)\n",
        "        _, yhat = torch.max(z, 1)\n",
        "        if yhat != y:\n",
        "            show_data((x, y))\n",
        "            plt.show()\n",
        "            count += 1\n",
        "        if count >= 5:\n",
        "            break"
      ],
      "metadata": {
        "id": "Er-d6XFphIqd"
      },
      "execution_count": 9,
      "outputs": []
    },
    {
      "cell_type": "markdown",
      "source": [
        "# Load Data"
      ],
      "metadata": {
        "id": "pgGa0wIyhU7T"
      }
    },
    {
      "cell_type": "markdown",
      "source": [
        "We create a transform object compose one will resize the image and convert it to a tensor, the second will also rotate the image Randomly rotate the image."
      ],
      "metadata": {
        "id": "y-ekvFnihVxo"
      }
    },
    {
      "cell_type": "code",
      "source": [
        "# Size of the images are 16 by 16\n",
        "IMAGE_SIZE = 16\n",
        "\n",
        "# Creating a group of transformations to created a rotated dataset\n",
        "# Resizes the images, randomly rotates it, and then converts it to a tensor\n",
        "compose_rotate = transforms.Compose([transforms.Resize((IMAGE_SIZE, IMAGE_SIZE)),transforms.RandomAffine(45), transforms.ToTensor()])\n",
        "\n",
        "# Creating a group of transformations to created a non rotated dataset\n",
        "# Resizes the images then converts it to a tensor\n",
        "compose = transforms.Compose([transforms.Resize((IMAGE_SIZE, IMAGE_SIZE)), transforms.ToTensor()])"
      ],
      "metadata": {
        "id": "5CvH0TRthXRc"
      },
      "execution_count": 10,
      "outputs": []
    },
    {
      "cell_type": "markdown",
      "source": [
        "Load the training dataset by setting the parameters train to True. We use the transform defined above, one with rotated data one without."
      ],
      "metadata": {
        "id": "_FcauIYOhaZh"
      }
    },
    {
      "cell_type": "code",
      "source": [
        "# The transform parameters is set to the corresponding compose\n",
        "train_dataset_rotate = dsets.MNIST(root='./data', train=True, download=True, transform=compose_rotate)\n",
        "train_dataset = dsets.MNIST(root='./data', train=True, download=True, transform=compose)"
      ],
      "metadata": {
        "colab": {
          "base_uri": "https://localhost:8080/"
        },
        "id": "qVCeKm54hazc",
        "outputId": "d1b1c769-fccf-438b-b3a8-9f7cabcea381"
      },
      "execution_count": 11,
      "outputs": [
        {
          "output_type": "stream",
          "name": "stdout",
          "text": [
            "Downloading http://yann.lecun.com/exdb/mnist/train-images-idx3-ubyte.gz\n",
            "Failed to download (trying next):\n",
            "HTTP Error 403: Forbidden\n",
            "\n",
            "Downloading https://ossci-datasets.s3.amazonaws.com/mnist/train-images-idx3-ubyte.gz\n",
            "Downloading https://ossci-datasets.s3.amazonaws.com/mnist/train-images-idx3-ubyte.gz to ./data/MNIST/raw/train-images-idx3-ubyte.gz\n"
          ]
        },
        {
          "output_type": "stream",
          "name": "stderr",
          "text": [
            "100%|██████████| 9.91M/9.91M [00:00<00:00, 48.8MB/s]\n"
          ]
        },
        {
          "output_type": "stream",
          "name": "stdout",
          "text": [
            "Extracting ./data/MNIST/raw/train-images-idx3-ubyte.gz to ./data/MNIST/raw\n",
            "\n",
            "Downloading http://yann.lecun.com/exdb/mnist/train-labels-idx1-ubyte.gz\n",
            "Failed to download (trying next):\n",
            "HTTP Error 403: Forbidden\n",
            "\n",
            "Downloading https://ossci-datasets.s3.amazonaws.com/mnist/train-labels-idx1-ubyte.gz\n",
            "Downloading https://ossci-datasets.s3.amazonaws.com/mnist/train-labels-idx1-ubyte.gz to ./data/MNIST/raw/train-labels-idx1-ubyte.gz\n"
          ]
        },
        {
          "output_type": "stream",
          "name": "stderr",
          "text": [
            "100%|██████████| 28.9k/28.9k [00:00<00:00, 35.8MB/s]"
          ]
        },
        {
          "output_type": "stream",
          "name": "stdout",
          "text": [
            "Extracting ./data/MNIST/raw/train-labels-idx1-ubyte.gz to ./data/MNIST/raw\n",
            "\n",
            "Downloading http://yann.lecun.com/exdb/mnist/t10k-images-idx3-ubyte.gz\n"
          ]
        },
        {
          "output_type": "stream",
          "name": "stderr",
          "text": [
            "\n"
          ]
        },
        {
          "output_type": "stream",
          "name": "stdout",
          "text": [
            "Failed to download (trying next):\n",
            "HTTP Error 403: Forbidden\n",
            "\n",
            "Downloading https://ossci-datasets.s3.amazonaws.com/mnist/t10k-images-idx3-ubyte.gz\n",
            "Downloading https://ossci-datasets.s3.amazonaws.com/mnist/t10k-images-idx3-ubyte.gz to ./data/MNIST/raw/t10k-images-idx3-ubyte.gz\n"
          ]
        },
        {
          "output_type": "stream",
          "name": "stderr",
          "text": [
            "100%|██████████| 1.65M/1.65M [00:00<00:00, 120MB/s]\n"
          ]
        },
        {
          "output_type": "stream",
          "name": "stdout",
          "text": [
            "Extracting ./data/MNIST/raw/t10k-images-idx3-ubyte.gz to ./data/MNIST/raw\n",
            "\n",
            "Downloading http://yann.lecun.com/exdb/mnist/t10k-labels-idx1-ubyte.gz\n",
            "Failed to download (trying next):\n",
            "HTTP Error 403: Forbidden\n",
            "\n",
            "Downloading https://ossci-datasets.s3.amazonaws.com/mnist/t10k-labels-idx1-ubyte.gz\n",
            "Downloading https://ossci-datasets.s3.amazonaws.com/mnist/t10k-labels-idx1-ubyte.gz to ./data/MNIST/raw/t10k-labels-idx1-ubyte.gz\n"
          ]
        },
        {
          "output_type": "stream",
          "name": "stderr",
          "text": [
            "100%|██████████| 4.54k/4.54k [00:00<00:00, 3.45MB/s]"
          ]
        },
        {
          "output_type": "stream",
          "name": "stdout",
          "text": [
            "Extracting ./data/MNIST/raw/t10k-labels-idx1-ubyte.gz to ./data/MNIST/raw\n",
            "\n"
          ]
        },
        {
          "output_type": "stream",
          "name": "stderr",
          "text": [
            "\n"
          ]
        }
      ]
    },
    {
      "cell_type": "markdown",
      "source": [
        "Load the testing dataset by setting the parameters train to False, where the data is ALL rotated."
      ],
      "metadata": {
        "id": "j4EI9F48hdzE"
      }
    },
    {
      "cell_type": "code",
      "source": [
        "# Load the testing dataset\n",
        "validation_dataset = dsets.MNIST(root='./data', train=False, download=True, transform=compose_rotate)"
      ],
      "metadata": {
        "id": "nhy4hfcUheLV"
      },
      "execution_count": 12,
      "outputs": []
    },
    {
      "cell_type": "markdown",
      "source": [
        "Each element in the rectangular tensor corresponds to a number representing a pixel intensity as demonstrated by the following image.\n",
        "\n",
        "<img src=\"https://s3-api.us-geo.objectstorage.softlayer.net/cf-courses-data/CognitiveClass/DL0110EN/notebook_images%20/chapter%206/6.2.1imagenet.png\" width=\"550\" alt=\"MNIST data image\">"
      ],
      "metadata": {
        "id": "q6CTCjAYhz03"
      }
    },
    {
      "cell_type": "markdown",
      "source": [
        "Plot the first sample"
      ],
      "metadata": {
        "id": "TzGF5UMnh3EI"
      }
    },
    {
      "cell_type": "code",
      "source": [
        "# The image for the first data sample\n",
        "show_data(train_dataset[0])"
      ],
      "metadata": {
        "colab": {
          "base_uri": "https://localhost:8080/",
          "height": 452
        },
        "id": "Rb5y9TmQh6Ak",
        "outputId": "dec19945-6157-405b-e1f4-2c5ef69af69e"
      },
      "execution_count": 13,
      "outputs": [
        {
          "output_type": "display_data",
          "data": {
            "text/plain": [
              "<Figure size 640x480 with 1 Axes>"
            ],
            "image/png": "[encoded data removed]"
          },
          "metadata": {}
        }
      ]
    },
    {
      "cell_type": "markdown",
      "source": [
        "Print out the first label, as we can see this digit is a five"
      ],
      "metadata": {
        "id": "UJ8nFNIQh76Q"
      }
    },
    {
      "cell_type": "code",
      "source": [
        "# The label for the first data element\n",
        "train_dataset[0][1]"
      ],
      "metadata": {
        "colab": {
          "base_uri": "https://localhost:8080/"
        },
        "id": "yyGMPiYnh8M2",
        "outputId": "9c65c238-e649-4874-f7cc-775595132c56"
      },
      "execution_count": 14,
      "outputs": [
        {
          "output_type": "execute_result",
          "data": {
            "text/plain": [
              "5"
            ]
          },
          "metadata": {},
          "execution_count": 14
        }
      ]
    },
    {
      "cell_type": "markdown",
      "source": [
        "Now let's plot the first sample of the rotated training dataset"
      ],
      "metadata": {
        "id": "nQboT_3eh-uW"
      }
    },
    {
      "cell_type": "code",
      "source": [
        "show_data(train_dataset_rotate[0])"
      ],
      "metadata": {
        "colab": {
          "base_uri": "https://localhost:8080/",
          "height": 452
        },
        "id": "w6XChpdzh9hW",
        "outputId": "cdcfaf99-fba1-474e-bb49-35e45caf6ca9"
      },
      "execution_count": 15,
      "outputs": [
        {
          "output_type": "display_data",
          "data": {
            "text/plain": [
              "<Figure size 640x480 with 1 Axes>"
            ],
            "image/png": "[encoded data removed]"
          },
          "metadata": {}
        }
      ]
    },
    {
      "cell_type": "markdown",
      "source": [
        "We can see that this is the same sample but it is rotated as we wanted"
      ],
      "metadata": {
        "id": "RbsEd1bxiBxK"
      }
    },
    {
      "cell_type": "markdown",
      "source": [
        "# Build a Convolutional Neural Network Class\n",
        "Build a Convolutional Network class with two Convolutional layers and one fully connected layer. Pre-determine the size of the final output matrix. The parameters in the constructor are the number of output channels for the first and second layers."
      ],
      "metadata": {
        "id": "aQlsnlKtiDji"
      }
    },
    {
      "cell_type": "code",
      "source": [
        "class CNN(nn.Module):\n",
        "\n",
        "    # Contructor\n",
        "    def __init__(self, out_1=16, out_2=32):\n",
        "        super(CNN, self).__init__()\n",
        "\n",
        "        # The reason we start with 1 channel is because we have a single black and white image\n",
        "        # Channel Width after this layer is 16\n",
        "        self.cnn1 = nn.Conv2d(in_channels=1, out_channels=out_1, kernel_size=5, padding=2)\n",
        "        # Channel Wifth after this layer is 8\n",
        "        self.maxpool1=nn.MaxPool2d(kernel_size=2)\n",
        "\n",
        "        # Channel Width after this layer is 8\n",
        "        self.cnn2 = nn.Conv2d(in_channels=out_1, out_channels=out_2, kernel_size=5, stride=1, padding=2)\n",
        "        # Channel Width after this layer is 4\n",
        "        self.maxpool2=nn.MaxPool2d(kernel_size=2)\n",
        "        # In total we have out_2 (32) channels which are each 4 * 4 in size based on the width calculation above. Channels are squares.\n",
        "        # The output is a value for each class\n",
        "        self.fc1 = nn.Linear(out_2 * 4 * 4, 10)\n",
        "\n",
        "    # Prediction\n",
        "    def forward(self, x):\n",
        "        # Puts the X value through each cnn, relu, and pooling layer and it is flattened for input into the fully connected layer\n",
        "        x = self.cnn1(x)\n",
        "        x = torch.relu(x)\n",
        "        x = self.maxpool1(x)\n",
        "        x = self.cnn2(x)\n",
        "        x = torch.relu(x)\n",
        "        x = self.maxpool2(x)\n",
        "        x = x.view(x.size(0), -1)\n",
        "        x = self.fc1(x)\n",
        "        return x\n",
        "\n",
        "    # Outputs result of each stage of the CNN, relu, and pooling layers\n",
        "    def activations(self, x):\n",
        "        # Outputs activation this is not necessary\n",
        "        z1 = self.cnn1(x)\n",
        "        a1 = torch.relu(z1)\n",
        "        out = self.maxpool1(a1)\n",
        "\n",
        "        z2 = self.cnn2(out)\n",
        "        a2 = torch.relu(z2)\n",
        "        out1 = self.maxpool2(a2)\n",
        "        out = out.view(out.size(0),-1)\n",
        "        return z1, a1, z2, a2, out1,out"
      ],
      "metadata": {
        "id": "LQ7AuYkbiGOe"
      },
      "execution_count": 16,
      "outputs": []
    },
    {
      "cell_type": "markdown",
      "source": [
        "# Regular Data"
      ],
      "metadata": {
        "id": "Lds_IzJdiJxm"
      }
    },
    {
      "cell_type": "markdown",
      "source": [
        "Define the Convolutional Neural Network Classifier, Criterion function, Optimizer, and Train the Model"
      ],
      "metadata": {
        "id": "kk1lB9vFigqw"
      }
    },
    {
      "cell_type": "code",
      "source": [
        "# Create the model object to be trained on regular data using CNN class\n",
        "model = CNN(out_1=16, out_2=32)"
      ],
      "metadata": {
        "id": "0fkkkdCfih4U"
      },
      "execution_count": 17,
      "outputs": []
    },
    {
      "cell_type": "markdown",
      "source": [
        "Define the loss function, the optimizer, and the dataset loader"
      ],
      "metadata": {
        "id": "IkR663IHik5o"
      }
    },
    {
      "cell_type": "code",
      "source": [
        "# We create a criterion which will measure loss\n",
        "criterion = nn.CrossEntropyLoss()\n",
        "learning_rate = 0.1\n",
        "# Create an optimizer that updates model parameters using the learning rate and gradient\n",
        "optimizer = torch.optim.SGD(model.parameters(), lr = learning_rate)\n",
        "# Create a Data Loader for the training data with a batch size of 100\n",
        "train_loader = torch.utils.data.DataLoader(dataset=train_dataset, batch_size=100)\n",
        "# Create a Data Loader for the rotated validation data with a batch size of 5000\n",
        "validation_loader = torch.utils.data.DataLoader(dataset=validation_dataset, batch_size=5000)"
      ],
      "metadata": {
        "id": "TV9Z_5zJilRN"
      },
      "execution_count": 18,
      "outputs": []
    },
    {
      "cell_type": "markdown",
      "source": [
        "This cell will train the model, we will comment it out as it takes a long time to run. You can change the block type from Raw to Code and run it or you can load the trained model in the next cell. Notice that we are not only training and saving the model here but we are also keeping track of important data like the cost and accuracy throughout the training process."
      ],
      "metadata": {
        "id": "TJvs4icginr2"
      }
    },
    {
      "cell_type": "markdown",
      "source": [
        "# Train the model\n",
        "import os  \n",
        "\n",
        "# Location to save data\n",
        "file_normal = os.path.join(os.getcwd(), 'normal.pt')\n",
        "\n",
        "# All the data we are saving\n",
        "checkpoint={\n",
        "            # Saving the number of epochs the models was trained for\n",
        "            'epoch': None,\n",
        "            # Saving the models parameters which will allow us to recreate the trained model\n",
        "            'model_state_dict': None,\n",
        "            # Saving the optimizers parameters\n",
        "            'optimizer_state_dict': None,\n",
        "            # Saving the loss on the training dataset for the last batch of the last epoch\n",
        "            'loss': None,\n",
        "            # Saving the cost on the training dataset for each epoch\n",
        "            'cost': [],\n",
        "            # Saving the accuracy for the testing dataset for each epoch\n",
        "            'accuracy': []}\n",
        "            \n",
        "# Number of epochs to train model\n",
        "n_epochs = 5\n",
        "\n",
        "# Size of the testing dataset\n",
        "N_test = len(validation_dataset)\n",
        "\n",
        "# Training for the number of epochs we want\n",
        "for epoch in range(n_epochs):\n",
        "    # Variable to keep track of cost for each epoch\n",
        "    cost = 0\n",
        "    # For each batch in the training dataset\n",
        "    for x, y in train_loader:\n",
        "        # Resets the calculated gradient value, this must be done each time as it accumulates if we do not reset\n",
        "        optimizer.zero_grad()\n",
        "        # Makes a prediction on the image\n",
        "        z = model(x)\n",
        "        # Calculate the loss between the prediction and actual class\n",
        "        loss = criterion(z, y)\n",
        "        # Calculates the gradient value with respect to each weight and bias\n",
        "        loss.backward()\n",
        "        # Updates the weight and bias according to calculated gradient value\n",
        "        optimizer.step()\n",
        "      \n",
        "        # Saves the number of epochs we trained for  \n",
        "        checkpoint['epochs'] = n_epochs\n",
        "        # Saves the models parameters\n",
        "        checkpoint['model_state_dict'] = model.state_dict()\n",
        "        # Saves the optimizers paramters\n",
        "        checkpoint['optimizer_state_dict'] = optimizer.state_dict()\n",
        "        # Saves the loss for the last batch so ultimately this will be the loss for the last batch of the last epoch\n",
        "        checkpoint['loss'] = loss\n",
        "        # Accumulates the loss\n",
        "        cost += loss.item()\n",
        "        \n",
        "     \n",
        "    # Counter for the correct number of predictions        \n",
        "    correct = 0\n",
        "        \n",
        "    # For each batch in the validation dataset\n",
        "    for x_test, y_test in validation_loader:\n",
        "        # Make a prediction\n",
        "        z = model(x_test)\n",
        "        # Get the class that has the maximum value\n",
        "        _, yhat = torch.max(z.data, 1)\n",
        "        # Counts the number of correct predictions made\n",
        "        correct += (yhat == y_test).sum().item()\n",
        "\n",
        "    accuracy = correct / N_test\n",
        "    print(accuracy)\n",
        "    # Appends the cost of the epoch to a list\n",
        "    checkpoint['cost'].append(cost)\n",
        "    # Appends the accuracy of the epoch to a list\n",
        "    checkpoint['accuracy'].append(accuracy)\n",
        "    # Saves the data in checkpoint to the file location\n",
        "    torch.save(checkpoint, file_normal)"
      ],
      "metadata": {
        "id": "xFbQOUWLiqE2"
      }
    },
    {
      "cell_type": "code",
      "source": [
        "# Variable to keep track of cost for each epoch\n",
        "cost = 0\n",
        "# For each batch in the training dataset\n",
        "for x, y in train_loader:\n",
        "    # Resets the calculated gradient value, this must be done each time as it accumulates if we do not reset\n",
        "    optimizer.zero_grad()\n",
        "    # Makes a prediction on the image\n",
        "    z = model(x)\n",
        "    # Calculate the loss between the prediction and actual class\n",
        "    loss = criterion(z, y)\n",
        "    # Calculates the gradient value with respect to each weight and bias\n",
        "    loss.backward()\n",
        "    # Updates the weight and bias according to calculated gradient value\n",
        "    optimizer.step()\n",
        "\n",
        "    # Saves the number of epochs we trained for\n",
        "    checkpoint['epochs'] = n_epochs\n",
        "    # Saves the models parameters\n",
        "    checkpoint['model_state_dict'] = model.state_dict()\n",
        "    # Saves the optimizers paramters\n",
        "    checkpoint['optimizer_state_dict'] = optimizer.state_dict()\n",
        "    # Saves the loss for the last batch so ultimately this will be the loss for the last batch of the last epoch\n",
        "    checkpoint['loss'] = loss\n",
        "    # Accumulates the loss\n",
        "    cost += loss.item()\n",
        "\n",
        "\n",
        "# Counter for the correct number of predictions\n",
        "correct = 0\n",
        "\n",
        "# For each batch in the validation dataset\n",
        "for x_test, y_test in validation_loader:\n",
        "    # Make a prediction\n",
        "    z = model(x_test)\n",
        "    # Get the class that has the maximum value\n",
        "    _, yhat = torch.max(z.data, 1)\n",
        "    # Counts the number of correct predictions made\n",
        "    correct += (yhat == y_test).sum().item()\n",
        "\n",
        "accuracy = correct / N_test\n",
        "print(accuracy)\n",
        "# Appends the cost of the epoch to a list\n",
        "checkpoint['cost'].append(cost)\n",
        "# Appends the accuracy of the epoch to a list\n",
        "checkpoint['accuracy'].append(accuracy)\n",
        "# Saves the data in checkpoint to the file location\n",
        "torch.save(checkpoint, file_normal)"
      ],
      "metadata": {
        "id": "dNfF9Di8jGnU"
      },
      "execution_count": null,
      "outputs": []
    },
    {
      "cell_type": "markdown",
      "source": [
        "**Analyze Results**"
      ],
      "metadata": {
        "id": "UWBb449virnX"
      }
    },
    {
      "cell_type": "markdown",
      "source": [
        "Loads the data which is saved in normal.pt"
      ],
      "metadata": {
        "id": "5Mjb52Mwiuvs"
      }
    },
    {
      "cell_type": "code",
      "source": [
        "checkpoint_normal = torch.load(os.path.join(os.getcwd(),'normal.pt'))"
      ],
      "metadata": {
        "colab": {
          "base_uri": "https://localhost:8080/"
        },
        "id": "HWgf85_aixFL",
        "outputId": "cadcfc60-a63e-4d20-80bc-45e3cced663e"
      },
      "execution_count": 19,
      "outputs": [
        {
          "output_type": "stream",
          "name": "stderr",
          "text": [
            "<ipython-input-19-77e3c4ecde14>:1: FutureWarning: You are using `torch.load` with `weights_only=False` (the current default value), which uses the default pickle module implicitly. It is possible to construct malicious pickle data which will execute arbitrary code during unpickling (See https://github.com/pytorch/pytorch/blob/main/SECURITY.md#untrusted-models for more details). In a future release, the default value for `weights_only` will be flipped to `True`. This limits the functions that could be executed during unpickling. Arbitrary objects will no longer be allowed to be loaded via this mode unless they are explicitly allowlisted by the user via `torch.serialization.add_safe_globals`. We recommend you start setting `weights_only=True` for any use case where you don't have full control of the loaded file. Please open an issue on GitHub for any issues related to this experimental feature.\n",
            "  checkpoint_normal = torch.load(os.path.join(os.getcwd(),'normal.pt'))\n"
          ]
        }
      ]
    },
    {
      "cell_type": "markdown",
      "source": [
        "Plot Accuracy and Cost vs Epoch Graph"
      ],
      "metadata": {
        "id": "gzRWQnJcizO4"
      }
    },
    {
      "cell_type": "code",
      "source": [
        "# Using the helper function defined at the top and the cost and accuracy lists that we saved\n",
        "plot_cost_accuracy(checkpoint_normal)"
      ],
      "metadata": {
        "id": "H0NJJg8vizqV"
      },
      "execution_count": null,
      "outputs": []
    },
    {
      "cell_type": "markdown",
      "source": [
        "Five misclassified samples"
      ],
      "metadata": {
        "id": "F-U6-rcDi2ba"
      }
    },
    {
      "cell_type": "code",
      "source": [
        "# Using the model parameters we saved we load them into a model to recreate the trained model\n",
        "model.load_state_dict(checkpoint_normal['model_state_dict'])\n",
        "# Setting the model to evaluation mode\n",
        "model.eval()\n",
        "# Using the helper function plot the first five misclassified samples\n",
        "plot_mis_classified(model,validation_dataset)"
      ],
      "metadata": {
        "id": "aNG7TX_pi2yy"
      },
      "execution_count": null,
      "outputs": []
    },
    {
      "cell_type": "markdown",
      "source": [
        "# **Rotated Training Data**"
      ],
      "metadata": {
        "id": "uAzEY99fi5dF"
      }
    },
    {
      "cell_type": "markdown",
      "source": [
        "Plot the loss and accuracy on the validation data:"
      ],
      "metadata": {
        "id": "AXH_R89Mi9As"
      }
    },
    {
      "cell_type": "code",
      "source": [
        "# Create the model object using CNN class\n",
        "model_r = CNN(out_1=16, out_2=32)\n",
        "# We create a criterion which will measure loss\n",
        "criterion = nn.CrossEntropyLoss()\n",
        "learning_rate = 0.1\n",
        "# Create an optimizer that updates model parameters using the learning rate and gradient\n",
        "optimizer = torch.optim.SGD(model_r.parameters(), lr = learning_rate)\n",
        "# Create a Data Loader for the rotated training data with a batch size of 100\n",
        "train_loader = torch.utils.data.DataLoader(dataset=train_dataset_rotate, batch_size=100)\n",
        "# Create a Data Loader for the rotated validation data with a batch size of 5000\n",
        "validation_loader = torch.utils.data.DataLoader(dataset=validation_dataset, batch_size=5000)"
      ],
      "metadata": {
        "id": "nlrGYtvYi9Zq"
      },
      "execution_count": null,
      "outputs": []
    },
    {
      "cell_type": "markdown",
      "source": [
        "This cell will train the model, we will comment it out as it takes a long time to run. You can change the block type from Raw to Code and run it or you can load the trained model in the next cell."
      ],
      "metadata": {
        "id": "4gKm3WWKjAmi"
      }
    },
    {
      "cell_type": "code",
      "source": [
        "# Location to save data\n",
        "file_rotated = os.path.join(os.getcwd(), 'rotated_data.pt')\n",
        "\n",
        "# All the data we are saving\n",
        "checkpoint={\n",
        "            # Saving the number of epochs the models was trained for\n",
        "            'epoch': None,\n",
        "            # Saving the models parameters which will allow us to recreate the trained model\n",
        "            'model_state_dict': None,\n",
        "            # Saving the optimizers parameters\n",
        "            'optimizer_state_dict': None,\n",
        "            # Saving the loss on the training dataset for the last batch of the last epoch\n",
        "            'loss': None,\n",
        "            # Saving the cost on the training dataset for each epoch\n",
        "            'cost': [],\n",
        "            # Saving the accuracy for the testing dataset for each epoch\n",
        "            'accuracy': []}\n",
        "\n",
        "# Number of epochs to train model\n",
        "n_epochs = 5\n",
        "\n",
        "# Size of the testing dataset\n",
        "N_test = len(validation_dataset)\n",
        "\n",
        "# Training for the number of epochs we want\n",
        "for epoch in range(n_epochs):\n",
        "    # Variable to keep track of cost for each epoch\n",
        "    cost = 0\n",
        "    # For each batch in the training dataset\n",
        "    for x, y in train_loader:\n",
        "        # Resets the calculated gradient value, this must be done each time as it accumulates if we do not reset\n",
        "        optimizer.zero_grad()\n",
        "        # Makes a prediction on the image\n",
        "        z = model_r(x)\n",
        "        # Calculate the loss between the prediction and actual class\n",
        "        loss = criterion(z, y)\n",
        "        # Calculates the gradient value with respect to each weight and bias\n",
        "        loss.backward()\n",
        "        # Updates the weight and bias according to calculated gradient value\n",
        "        optimizer.step()\n",
        "\n",
        "        # Saves the number of epochs we trained for\n",
        "        checkpoint['epochs'] = n_epochs\n",
        "        # Saves the models parameters\n",
        "        checkpoint['model_state_dict'] = model.state_dict()\n",
        "        # Saves the optimizers paramters\n",
        "        checkpoint['optimizer_state_dict'] = optimizer.state_dict()\n",
        "        # Saves the loss for the last batch so ultimately this will be the loss for the last batch of the last epoch\n",
        "        checkpoint['loss'] = loss\n",
        "        # Accumulates the loss\n",
        "        cost+=loss.item()\n",
        "\n",
        "\n",
        "    # Counter for the correct number of predictions\n",
        "    correct = 0\n",
        "\n",
        "    # For each batch in the validation dataset\n",
        "    for x_test, y_test in validation_loader:\n",
        "        # Make a prediction\n",
        "        z = model_r(x_test)\n",
        "        # Get the class that has the maximum value\n",
        "        _, yhat = torch.max(z.data, 1)\n",
        "        # Counts the number of correct predictions made\n",
        "        correct += (yhat == y_test).sum().item()\n",
        "\n",
        "    accuracy = correct / N_test\n",
        "    print(accuracy)\n",
        "    # Appends the cost of the epoch to a list\n",
        "    checkpoint['cost'].append(cost)\n",
        "    # Appends the accuracy of the epoch to a list\n",
        "    checkpoint['accuracy'].append(accuracy)\n",
        "    # Saves the data in checkpoint to the file location\n",
        "    torch.save(checkpoint, file_rotated)"
      ],
      "metadata": {
        "colab": {
          "base_uri": "https://localhost:8080/"
        },
        "id": "WDaIn9yPjBAO",
        "outputId": "fae52f4d-00ac-482b-cb25-ad1556fb704f"
      },
      "execution_count": null,
      "outputs": [
        {
          "output_type": "stream",
          "name": "stdout",
          "text": [
            "0.9018\n",
            "0.932\n",
            "0.9394\n"
          ]
        }
      ]
    },
    {
      "cell_type": "markdown",
      "source": [
        "# Analyze Results"
      ],
      "metadata": {
        "id": "WtDuAvOhjQar"
      }
    },
    {
      "cell_type": "markdown",
      "source": [
        "Loads the data which is saved in rotated_data.pt"
      ],
      "metadata": {
        "id": "kt1BT26vjSKu"
      }
    },
    {
      "cell_type": "code",
      "source": [
        "checkpoint_rotated= torch.load(os.path.join(os.getcwd(),'rotated_data.pt'))"
      ],
      "metadata": {
        "id": "m5QaeKcujSj4"
      },
      "execution_count": null,
      "outputs": []
    },
    {
      "cell_type": "markdown",
      "source": [
        "Plot Accuracy and Cost vs Epoch Graph"
      ],
      "metadata": {
        "id": "hMo35czTjUpB"
      }
    },
    {
      "cell_type": "code",
      "source": [
        "# Using the helper function defined at the top and the cost and accuracy lists that we saved\n",
        "plot_cost_accuracy(checkpoint_rotated)"
      ],
      "metadata": {
        "id": "e4U5DfwjjWQU"
      },
      "execution_count": null,
      "outputs": []
    },
    {
      "cell_type": "markdown",
      "source": [
        "Five misclassified samples"
      ],
      "metadata": {
        "id": "tFF8LZC5jX8S"
      }
    },
    {
      "cell_type": "code",
      "source": [
        "# Using the model parameters we saved we load them into a model to recreate the trained model\n",
        "model_r.load_state_dict(checkpoint_rotated['model_state_dict'])\n",
        "# Setting the model to evaluation mode\n",
        "model.eval()\n",
        "# Using the helper function plot the first five misclassified samples\n",
        "plot_mis_classified(model_r,validation_dataset)"
      ],
      "metadata": {
        "id": "dlllQAzTjYa4"
      },
      "execution_count": null,
      "outputs": []
    }
  ]
}